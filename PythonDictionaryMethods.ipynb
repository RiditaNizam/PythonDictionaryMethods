{
  "nbformat": 4,
  "nbformat_minor": 0,
  "metadata": {
    "colab": {
      "name": "PythonDictionaryMethods.ipynb",
      "provenance": [],
      "collapsed_sections": [],
      "include_colab_link": true
    },
    "kernelspec": {
      "display_name": "Python 3",
      "name": "python3"
    }
  },
  "cells": [
    {
      "cell_type": "markdown",
      "metadata": {
        "id": "view-in-github",
        "colab_type": "text"
      },
      "source": [
        "<a href=\"https://colab.research.google.com/github/RiditaNizam/PythonDictionaryMethods/blob/main/PythonDictionaryMethods.ipynb\" target=\"_parent\"><img src=\"https://colab.research.google.com/assets/colab-badge.svg\" alt=\"Open In Colab\"/></a>"
      ]
    },
    {
      "cell_type": "code",
      "metadata": {
        "id": "73U5UIAe4ppp",
        "colab": {
          "base_uri": "https://localhost:8080/"
        },
        "outputId": "7c2fadc8-52d4-4058-f08b-7dd3010db8d8"
      },
      "source": [
        "from google.colab import drive\n",
        "drive.mount('/content/drive')"
      ],
      "execution_count": null,
      "outputs": [
        {
          "output_type": "stream",
          "text": [
            "Mounted at /content/drive\n"
          ],
          "name": "stdout"
        }
      ]
    },
    {
      "cell_type": "code",
      "metadata": {
        "id": "s55aBe1x4z9T"
      },
      "source": [
        "cities_lived= dict ()\n",
        "cities_lived= {\n",
        "    'Forest Hills': 11375,\n",
        "    'Schenectady': 12303,\n",
        "    'Brighton': 2135, #Leading 0 not allowed\n",
        "    'Brooklyn': 11210,\n",
        "    'Pasadena': 91107\n",
        "}"
      ],
      "execution_count": 27,
      "outputs": []
    },
    {
      "cell_type": "code",
      "metadata": {
        "id": "23uutUo35-qj",
        "colab": {
          "base_uri": "https://localhost:8080/"
        },
        "outputId": "20b5a767-6d42-4827-af2f-60e68b136880"
      },
      "source": [
        "print(cities_lived.get('Dallas',\"Ridita never lived in Dallas\"))\n",
        "print(cities_lived.get('Portland',\"Ridita never lived in Portland\"))"
      ],
      "execution_count": 28,
      "outputs": [
        {
          "output_type": "stream",
          "text": [
            "Ridita never lived in Dallas\n",
            "Ridita never lived in Portland\n"
          ],
          "name": "stdout"
        }
      ]
    },
    {
      "cell_type": "code",
      "metadata": {
        "id": "852F1nB86AiH",
        "colab": {
          "base_uri": "https://localhost:8080/"
        },
        "outputId": "a2b4838d-3df1-42b3-c942-8f4ef5c2798e"
      },
      "source": [
        "print(cities_lived.keys())\n",
        "print(cities_lived.values())"
      ],
      "execution_count": 29,
      "outputs": [
        {
          "output_type": "stream",
          "text": [
            "dict_keys(['Forest Hills', 'Schenectady', 'Brighton', 'Brooklyn', 'Pasadena'])\n",
            "dict_values([11375, 12303, 2135, 11210, 91107])\n"
          ],
          "name": "stdout"
        }
      ]
    },
    {
      "cell_type": "code",
      "metadata": {
        "colab": {
          "base_uri": "https://localhost:8080/"
        },
        "id": "2vzW21Lr6q8r",
        "outputId": "2e42eba7-e338-433e-a25c-3df9dfda026e"
      },
      "source": [
        "print(\"Cities lived and their zip codes\")\n",
        "for key,value in cities_lived.items():\n",
        "\tprint (\"The city is\", key, \"the zip code is\", value)"
      ],
      "execution_count": 30,
      "outputs": [
        {
          "output_type": "stream",
          "text": [
            "Cities lived and their zip codes\n",
            "The city is Forest Hills the zip code is 11375\n",
            "The city is Schenectady the zip code is 12303\n",
            "The city is Brighton the zip code is 2135\n",
            "The city is Brooklyn the zip code is 11210\n",
            "The city is Pasadena the zip code is 91107\n"
          ],
          "name": "stdout"
        }
      ]
    },
    {
      "cell_type": "code",
      "metadata": {
        "colab": {
          "base_uri": "https://localhost:8080/"
        },
        "id": "Yc3m7qwK66Ly",
        "outputId": "0a904a26-1c0f-4799-d90c-03c3237a4052"
      },
      "source": [
        "#Remove a key-value pair from a dictionary\n",
        "print (\"Value of key \" + str(cities_lived.pop('Brooklyn', \"not found\")))\n",
        "print (cities_lived)"
      ],
      "execution_count": 31,
      "outputs": [
        {
          "output_type": "stream",
          "text": [
            "Value of key 11210\n",
            "{'Forest Hills': 11375, 'Schenectady': 12303, 'Brighton': 2135, 'Pasadena': 91107}\n"
          ],
          "name": "stdout"
        }
      ]
    },
    {
      "cell_type": "code",
      "metadata": {
        "colab": {
          "base_uri": "https://localhost:8080/"
        },
        "id": "tnpWGyuE8DvV",
        "outputId": "8bced98e-c0c1-4ef8-aa3c-3d0c981f9ed0"
      },
      "source": [
        "#Remove a random one\n",
        "print (cities_lived.popitem())\n",
        "print (cities_lived)"
      ],
      "execution_count": 32,
      "outputs": [
        {
          "output_type": "stream",
          "text": [
            "('Pasadena', 91107)\n",
            "{'Forest Hills': 11375, 'Schenectady': 12303, 'Brighton': 2135}\n"
          ],
          "name": "stdout"
        }
      ]
    },
    {
      "cell_type": "code",
      "metadata": {
        "colab": {
          "base_uri": "https://localhost:8080/"
        },
        "id": "V2xMNZNN8fb9",
        "outputId": "10e5426a-e20b-4236-b236-90fb3ba75f00"
      },
      "source": [
        "#Prints dictionary with keys sorted\n",
        "print(sorted(cities_lived.keys()))\n",
        "\n",
        "#Prints dictionary with values sorted\n",
        "print (sorted(cities_lived.values()))"
      ],
      "execution_count": 33,
      "outputs": [
        {
          "output_type": "stream",
          "text": [
            "['Brighton', 'Forest Hills', 'Schenectady']\n",
            "[2135, 11375, 12303]\n"
          ],
          "name": "stdout"
        }
      ]
    },
    {
      "cell_type": "code",
      "metadata": {
        "id": "aI7_Mjg39NV3"
      },
      "source": [
        ""
      ],
      "execution_count": null,
      "outputs": []
    }
  ]
}